{
 "cells": [
  {
   "cell_type": "markdown",
   "metadata": {},
   "source": [
    "## Import Dependencies"
   ]
  },
  {
   "cell_type": "code",
   "execution_count": 1,
   "metadata": {
    "collapsed": false
   },
   "outputs": [
    {
     "ename": "ImportError",
     "evalue": "/home/dnkrtz/anaconda3/lib/python3.5/site-packages/zmq/backend/cython/../../../../.././libstdc++.so.6: version `GLIBCXX_3.4.21' not found (required by /home/dnkrtz/anaconda3/lib/python3.5/site-packages/MeshPy-2016.1-py3.5-linux-x86_64.egg/meshpy/_tetgen.cpython-35m-x86_64-linux-gnu.so)",
     "output_type": "error",
     "traceback": [
      "\u001b[0;31m---------------------------------------------------------------------------\u001b[0m",
      "\u001b[0;31mImportError\u001b[0m                               Traceback (most recent call last)",
      "\u001b[0;32m<ipython-input-1-ee7bc4806586>\u001b[0m in \u001b[0;36m<module>\u001b[0;34m()\u001b[0m\n\u001b[1;32m      5\u001b[0m \u001b[0;32mfrom\u001b[0m \u001b[0mimportlib\u001b[0m \u001b[0;32mimport\u001b[0m \u001b[0mreload\u001b[0m\u001b[0;34m\u001b[0m\u001b[0m\n\u001b[1;32m      6\u001b[0m \u001b[0;34m\u001b[0m\u001b[0m\n\u001b[0;32m----> 7\u001b[0;31m \u001b[0;32mfrom\u001b[0m \u001b[0mmachina\u001b[0m \u001b[0;32mimport\u001b[0m \u001b[0mHexMachina\u001b[0m\u001b[0;34m\u001b[0m\u001b[0m\n\u001b[0m\u001b[1;32m      8\u001b[0m \u001b[0;32mfrom\u001b[0m \u001b[0moptimization\u001b[0m \u001b[0;32mimport\u001b[0m \u001b[0;34m*\u001b[0m\u001b[0;34m\u001b[0m\u001b[0m\n\u001b[1;32m      9\u001b[0m \u001b[0;32mfrom\u001b[0m \u001b[0msingularity\u001b[0m \u001b[0;32mimport\u001b[0m \u001b[0;34m*\u001b[0m\u001b[0;34m\u001b[0m\u001b[0m\n",
      "\u001b[0;32m/home/dnkrtz/Projects/hexmachina/hexmachina/machina.py\u001b[0m in \u001b[0;36m<module>\u001b[0;34m()\u001b[0m\n\u001b[1;32m     12\u001b[0m \u001b[0;32mfrom\u001b[0m \u001b[0mcollections\u001b[0m \u001b[0;32mimport\u001b[0m \u001b[0mdeque\u001b[0m\u001b[0;34m\u001b[0m\u001b[0m\n\u001b[1;32m     13\u001b[0m \u001b[0;32mimport\u001b[0m \u001b[0mitertools\u001b[0m\u001b[0;34m\u001b[0m\u001b[0m\n\u001b[0;32m---> 14\u001b[0;31m \u001b[0;32mimport\u001b[0m \u001b[0mmeshpy\u001b[0m\u001b[0;34m.\u001b[0m\u001b[0mtet\u001b[0m\u001b[0;34m\u001b[0m\u001b[0m\n\u001b[0m\u001b[1;32m     15\u001b[0m \u001b[0;32mimport\u001b[0m \u001b[0mnumpy\u001b[0m \u001b[0;32mas\u001b[0m \u001b[0mnp\u001b[0m\u001b[0;34m\u001b[0m\u001b[0m\n\u001b[1;32m     16\u001b[0m \u001b[0;32mfrom\u001b[0m \u001b[0mscipy\u001b[0m \u001b[0;32mimport\u001b[0m \u001b[0mspatial\u001b[0m\u001b[0;34m,\u001b[0m \u001b[0moptimize\u001b[0m\u001b[0;34m\u001b[0m\u001b[0m\n",
      "\u001b[0;32m/home/dnkrtz/anaconda3/lib/python3.5/site-packages/MeshPy-2016.1-py3.5-linux-x86_64.egg/meshpy/tet.py\u001b[0m in \u001b[0;36m<module>\u001b[0;34m()\u001b[0m\n\u001b[1;32m      2\u001b[0m \u001b[0;32mfrom\u001b[0m \u001b[0m__future__\u001b[0m \u001b[0;32mimport\u001b[0m \u001b[0mprint_function\u001b[0m\u001b[0;34m\u001b[0m\u001b[0m\n\u001b[1;32m      3\u001b[0m \u001b[0;32mfrom\u001b[0m \u001b[0mmeshpy\u001b[0m\u001b[0;34m.\u001b[0m\u001b[0mcommon\u001b[0m \u001b[0;32mimport\u001b[0m \u001b[0mMeshInfoBase\u001b[0m\u001b[0;34m,\u001b[0m \u001b[0mdump_array\u001b[0m\u001b[0;34m\u001b[0m\u001b[0m\n\u001b[0;32m----> 4\u001b[0;31m \u001b[0;32mimport\u001b[0m \u001b[0mmeshpy\u001b[0m\u001b[0;34m.\u001b[0m\u001b[0m_tetgen\u001b[0m \u001b[0;32mas\u001b[0m \u001b[0minternals\u001b[0m\u001b[0;34m\u001b[0m\u001b[0m\n\u001b[0m\u001b[1;32m      5\u001b[0m \u001b[0;32mimport\u001b[0m \u001b[0msix\u001b[0m\u001b[0;34m\u001b[0m\u001b[0m\n\u001b[1;32m      6\u001b[0m \u001b[0;32mfrom\u001b[0m \u001b[0msix\u001b[0m\u001b[0;34m.\u001b[0m\u001b[0mmoves\u001b[0m \u001b[0;32mimport\u001b[0m \u001b[0mrange\u001b[0m\u001b[0;34m\u001b[0m\u001b[0m\n",
      "\u001b[0;31mImportError\u001b[0m: /home/dnkrtz/anaconda3/lib/python3.5/site-packages/zmq/backend/cython/../../../../.././libstdc++.so.6: version `GLIBCXX_3.4.21' not found (required by /home/dnkrtz/anaconda3/lib/python3.5/site-packages/MeshPy-2016.1-py3.5-linux-x86_64.egg/meshpy/_tetgen.cpython-35m-x86_64-linux-gnu.so)"
     ]
    }
   ],
   "source": [
    "import sys\n",
    "import math\n",
    "import numpy as np\n",
    "import trimesh\n",
    "from importlib import reload\n",
    "\n",
    "from machina import HexMachina\n",
    "from optimization import *\n",
    "from singularity import *\n",
    "from utils import *\n",
    "\n",
    "import parametrization\n",
    "import extraction"
   ]
  },
  {
   "cell_type": "markdown",
   "metadata": {},
   "source": [
    "## Generate Tetrahedral Mesh\n",
    "First, the triangle mesh representing the geometry is imported. Based on this input mesh, a volumetric tetrahedral mesh is generated and its boundary surface is extracted. Next, the curvatures and normals of this surface are computed, and some additional topological information is computed (i.e. dual)."
   ]
  },
  {
   "cell_type": "code",
   "execution_count": 4,
   "metadata": {
    "collapsed": false
   },
   "outputs": [
    {
     "name": "stdout",
     "output_type": "stream",
     "text": [
      "Reading triangle mesh... \u001b[92m OK. \u001b[0m\n",
      "Generating tetrahedral mesh... \u001b[92m OK. \u001b[0m\n",
      "Computing surface curvatures/normals... \u001b[92m OK. \u001b[0m\n",
      "Extracting dual voronoi... \u001b[92m OK. \u001b[0m\n"
     ]
    }
   ],
   "source": [
    "print('Reading triangle mesh...', end=\" \")\n",
    "sys.stdout.flush()\n",
    "tri_mesh = trimesh.load_mesh('../io/cylinder.stl')\n",
    "say_ok()\n",
    "\n",
    "# Instantiate tetrahedral mesh\n",
    "print('Generating tetrahedral mesh...', end=\" \")\n",
    "sys.stdout.flush()\n",
    "machina = HexMachina(tri_mesh, max_vol = 1)\n",
    "# Output tetrahedral mesh\n",
    "vtk_tetmesh(machina.tet_mesh, 'tet_mesh')\n",
    "say_ok()\n",
    "\n",
    "# Construct boundary surface of tetrahedral mesh.\n",
    "print('Computing surface curvatures/normals...', end=\" \")\n",
    "sys.stdout.flush()\n",
    "# Compute face and vertex normals.\n",
    "machina.surf_mesh.compute_normals()\n",
    "# Compute principal curvatures and directions.\n",
    "machina.surf_mesh.compute_curvatures()\n",
    "# Output curvature crossfield to .vtk file.\n",
    "vtk_curvature(machina.surf_mesh, 'curvature')\n",
    "say_ok()\n",
    "\n",
    "# Compute the tetrahedral one-rings of the mesh.\n",
    "print('Extracting dual voronoi...', end=\" \")\n",
    "sys.stdout.flush()\n",
    "machina.compute_dual()\n",
    "say_ok()"
   ]
  },
  {
   "cell_type": "markdown",
   "metadata": {},
   "source": [
    "## Construct Framefield"
   ]
  },
  {
   "cell_type": "code",
   "execution_count": 5,
   "metadata": {
    "collapsed": false
   },
   "outputs": [
    {
     "name": "stdout",
     "output_type": "stream",
     "text": [
      "Initializing framefield... \u001b[92m OK. \u001b[0m\n",
      "Optimizing framefield...\n",
      "\u001b[92m OK. \u001b[0m\n"
     ]
    }
   ],
   "source": [
    "# Construct 3D frame field as an array of (U, V, W) frames.\n",
    "# This field is parallel to the tet list (i.e. each tet has a frame).\n",
    "print('Initializing framefield...', end=\" \")\n",
    "sys.stdout.flush()\n",
    "# Construct frame field.\n",
    "machina.init_framefield()\n",
    "say_ok()\n",
    "\n",
    "# Optimize 3D frame field by L-BFGS minimization.\n",
    "print('Optimizing framefield...')\n",
    "machina.optimize_framefield()\n",
    "say_ok()\n",
    "\n",
    "# Output frame field to .vtk file.\n",
    "vtk_framefield(machina.frames, 'field')"
   ]
  },
  {
   "cell_type": "markdown",
   "metadata": {},
   "source": [
    "## Pre-process"
   ]
  },
  {
   "cell_type": "code",
   "execution_count": 6,
   "metadata": {
    "collapsed": false
   },
   "outputs": [
    {
     "name": "stdout",
     "output_type": "stream",
     "text": [
      "Computing singular graph... \u001b[92m OK. \u001b[0m\n"
     ]
    }
   ],
   "source": [
    "# Determine the singular edges of the framefield.      \n",
    "print(\"Computing singular graph...\", end=\" \")\n",
    "sys.stdout.flush()\n",
    "singular_vertices = singular_graph(machina)[2]\n",
    "say_ok()"
   ]
  },
  {
   "cell_type": "markdown",
   "metadata": {},
   "source": [
    "## Parametrize"
   ]
  },
  {
   "cell_type": "code",
   "execution_count": null,
   "metadata": {
    "collapsed": false,
    "scrolled": true
   },
   "outputs": [
    {
     "name": "stdout",
     "output_type": "stream",
     "text": [
      "Parametrizing volume...\n",
      "Computing laplacian and constraints...\n",
      "Conjugate Gradient... (Round 1) "
     ]
    }
   ],
   "source": [
    "reload(parametrization)\n",
    "\n",
    "print(\"Parametrizing volume...\")\n",
    "uvw_map = parametrization.parametrize_volume(machina, singular_vertices, 3.0)\n",
    "say_ok()"
   ]
  },
  {
   "cell_type": "markdown",
   "metadata": {},
   "source": [
    "## Extract hex"
   ]
  },
  {
   "cell_type": "code",
   "execution_count": 22,
   "metadata": {
    "collapsed": false
   },
   "outputs": [
    {
     "name": "stdout",
     "output_type": "stream",
     "text": [
      "Extracting hexahedrons... "
     ]
    },
    {
     "name": "stderr",
     "output_type": "stream",
     "text": [
      "/home/dnkrtz/Projects/HexMachina/hexmachina/extraction.py:95: FutureWarning: comparison to `None` will result in an elementwise object comparison in the future.\n",
      "  if iso_pt != None:\n"
     ]
    },
    {
     "name": "stdout",
     "output_type": "stream",
     "text": [
      "\u001b[92m OK. \u001b[0m\n"
     ]
    }
   ],
   "source": [
    "reload(extraction)\n",
    "\n",
    "print(\"Extracting hexahedrons...\", end=\" \")\n",
    "iso_pts = extraction.extract_isolines(machina, uvw_map)\n",
    "say_ok()"
   ]
  },
  {
   "cell_type": "code",
   "execution_count": 23,
   "metadata": {
    "collapsed": true
   },
   "outputs": [],
   "source": []
  },
  {
   "cell_type": "code",
   "execution_count": null,
   "metadata": {
    "collapsed": true
   },
   "outputs": [],
   "source": []
  }
 ],
 "metadata": {
  "anaconda-cloud": {},
  "kernelspec": {
   "display_name": "Python [conda root]",
   "language": "python",
   "name": "conda-root-py"
  },
  "language_info": {
   "codemirror_mode": {
    "name": "ipython",
    "version": 3
   },
   "file_extension": ".py",
   "mimetype": "text/x-python",
   "name": "python",
   "nbconvert_exporter": "python",
   "pygments_lexer": "ipython3",
   "version": "3.5.2"
  }
 },
 "nbformat": 4,
 "nbformat_minor": 0
}
